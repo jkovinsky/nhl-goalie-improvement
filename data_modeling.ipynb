{
 "cells": [
  {
   "cell_type": "code",
   "execution_count": 771,
   "id": "544981c0-82cf-483d-938b-ea49fca69f0e",
   "metadata": {},
   "outputs": [],
   "source": [
    "import pandas as pd\n",
    "import numpy as np\n",
    "import matplotlib.pyplot as plt\n",
    "from sklearn.preprocessing import StandardScaler\n",
    "from sklearn.model_selection import train_test_split\n",
    "from sklearn.model_selection import StratifiedKFold\n",
    "from sklearn import metrics\n",
    "from sklearn.neighbors import KNeighborsClassifier\n",
    "from sklearn.linear_model import LinearRegression, LogisticRegression\n",
    "from sklearn.svm import LinearSVC"
   ]
  },
  {
   "cell_type": "markdown",
   "id": "9bd6ea3f-dad7-4adc-91ca-d3ba4216768e",
   "metadata": {},
   "source": [
    "## 1. Load Data"
   ]
  },
  {
   "cell_type": "code",
   "execution_count": 729,
   "id": "a210ffe4-1a6e-4f7d-85cb-75851f40e2ec",
   "metadata": {},
   "outputs": [],
   "source": [
    "df = pd.read_csv('./data/model_goalie_stats.csv')"
   ]
  },
  {
   "cell_type": "code",
   "execution_count": 731,
   "id": "e379281f-ec86-403d-b9c4-ebc00724f32d",
   "metadata": {},
   "outputs": [],
   "source": [
    "df.drop(['season', 'name', 'team'], inplace = True, axis=1)"
   ]
  },
  {
   "cell_type": "code",
   "execution_count": 733,
   "id": "a76cbb84-45dc-4347-a8b2-ce6dfba0cb68",
   "metadata": {},
   "outputs": [
    {
     "data": {
      "text/html": [
       "<div>\n",
       "<style scoped>\n",
       "    .dataframe tbody tr th:only-of-type {\n",
       "        vertical-align: middle;\n",
       "    }\n",
       "\n",
       "    .dataframe tbody tr th {\n",
       "        vertical-align: top;\n",
       "    }\n",
       "\n",
       "    .dataframe thead th {\n",
       "        text-align: right;\n",
       "    }\n",
       "</style>\n",
       "<table border=\"1\" class=\"dataframe\">\n",
       "  <thead>\n",
       "    <tr style=\"text-align: right;\">\n",
       "      <th></th>\n",
       "      <th>age</th>\n",
       "      <th>icetime</th>\n",
       "      <th>sv% on shots on goal</th>\n",
       "      <th>rebounds per save</th>\n",
       "      <th>freezes per save</th>\n",
       "      <th>% of shot attempts blocked by teammates</th>\n",
       "      <th>on goal % above expected</th>\n",
       "      <th>low danger unblocked shot attempt sv%</th>\n",
       "      <th>medium danger unblocked shot attempt sv%</th>\n",
       "      <th>high danger unblocked shot attempt sv% above expected</th>\n",
       "      <th>corsi</th>\n",
       "      <th>improvement</th>\n",
       "    </tr>\n",
       "  </thead>\n",
       "  <tbody>\n",
       "    <tr>\n",
       "      <th>0</th>\n",
       "      <td>27</td>\n",
       "      <td>98154.0</td>\n",
       "      <td>0.924258</td>\n",
       "      <td>0.071982</td>\n",
       "      <td>0.266888</td>\n",
       "      <td>0.182874</td>\n",
       "      <td>0.021285</td>\n",
       "      <td>0.975585</td>\n",
       "      <td>0.884921</td>\n",
       "      <td>0.040395</td>\n",
       "      <td>75.811480</td>\n",
       "      <td>0.051340</td>\n",
       "    </tr>\n",
       "    <tr>\n",
       "      <th>1</th>\n",
       "      <td>21</td>\n",
       "      <td>180336.0</td>\n",
       "      <td>0.905486</td>\n",
       "      <td>0.082482</td>\n",
       "      <td>0.237956</td>\n",
       "      <td>0.211768</td>\n",
       "      <td>0.015651</td>\n",
       "      <td>0.971975</td>\n",
       "      <td>0.878378</td>\n",
       "      <td>-0.067372</td>\n",
       "      <td>71.925739</td>\n",
       "      <td>-0.125235</td>\n",
       "    </tr>\n",
       "    <tr>\n",
       "      <th>2</th>\n",
       "      <td>36</td>\n",
       "      <td>159763.0</td>\n",
       "      <td>0.886589</td>\n",
       "      <td>0.071895</td>\n",
       "      <td>0.230626</td>\n",
       "      <td>0.159748</td>\n",
       "      <td>0.018897</td>\n",
       "      <td>0.963744</td>\n",
       "      <td>0.864780</td>\n",
       "      <td>-0.072437</td>\n",
       "      <td>53.742105</td>\n",
       "      <td>-0.260870</td>\n",
       "    </tr>\n",
       "    <tr>\n",
       "      <th>3</th>\n",
       "      <td>28</td>\n",
       "      <td>108255.0</td>\n",
       "      <td>0.912355</td>\n",
       "      <td>0.086806</td>\n",
       "      <td>0.237269</td>\n",
       "      <td>0.200272</td>\n",
       "      <td>0.006053</td>\n",
       "      <td>0.967710</td>\n",
       "      <td>0.881517</td>\n",
       "      <td>0.040345</td>\n",
       "      <td>73.227103</td>\n",
       "      <td>-0.040179</td>\n",
       "    </tr>\n",
       "    <tr>\n",
       "      <th>4</th>\n",
       "      <td>28</td>\n",
       "      <td>202395.0</td>\n",
       "      <td>0.918218</td>\n",
       "      <td>0.053440</td>\n",
       "      <td>0.226658</td>\n",
       "      <td>0.189764</td>\n",
       "      <td>0.016701</td>\n",
       "      <td>0.969649</td>\n",
       "      <td>0.886836</td>\n",
       "      <td>-0.031238</td>\n",
       "      <td>70.205292</td>\n",
       "      <td>0.017932</td>\n",
       "    </tr>\n",
       "  </tbody>\n",
       "</table>\n",
       "</div>"
      ],
      "text/plain": [
       "   age   icetime  sv% on shots on goal  rebounds per save  freezes per save  \\\n",
       "0   27   98154.0              0.924258           0.071982          0.266888   \n",
       "1   21  180336.0              0.905486           0.082482          0.237956   \n",
       "2   36  159763.0              0.886589           0.071895          0.230626   \n",
       "3   28  108255.0              0.912355           0.086806          0.237269   \n",
       "4   28  202395.0              0.918218           0.053440          0.226658   \n",
       "\n",
       "   % of shot attempts blocked by teammates  on goal % above expected  \\\n",
       "0                                 0.182874                  0.021285   \n",
       "1                                 0.211768                  0.015651   \n",
       "2                                 0.159748                  0.018897   \n",
       "3                                 0.200272                  0.006053   \n",
       "4                                 0.189764                  0.016701   \n",
       "\n",
       "   low danger unblocked shot attempt sv%  \\\n",
       "0                               0.975585   \n",
       "1                               0.971975   \n",
       "2                               0.963744   \n",
       "3                               0.967710   \n",
       "4                               0.969649   \n",
       "\n",
       "   medium danger unblocked shot attempt sv%  \\\n",
       "0                                  0.884921   \n",
       "1                                  0.878378   \n",
       "2                                  0.864780   \n",
       "3                                  0.881517   \n",
       "4                                  0.886836   \n",
       "\n",
       "   high danger unblocked shot attempt sv% above expected      corsi  \\\n",
       "0                                           0.040395      75.811480   \n",
       "1                                          -0.067372      71.925739   \n",
       "2                                          -0.072437      53.742105   \n",
       "3                                           0.040345      73.227103   \n",
       "4                                          -0.031238      70.205292   \n",
       "\n",
       "   improvement  \n",
       "0     0.051340  \n",
       "1    -0.125235  \n",
       "2    -0.260870  \n",
       "3    -0.040179  \n",
       "4     0.017932  "
      ]
     },
     "execution_count": 733,
     "metadata": {},
     "output_type": "execute_result"
    }
   ],
   "source": [
    "df.head()"
   ]
  },
  {
   "cell_type": "code",
   "execution_count": 735,
   "id": "9ced42ba-7359-4f1e-acbf-0bc3c6623065",
   "metadata": {},
   "outputs": [],
   "source": [
    "# convert age to categorical variable\n",
    "df_copy = df.copy() \n",
    "\n",
    "df_copy.loc[df_copy['age']  <  25, 'age']                             = 0\n",
    "df_copy.loc[(df_copy['age'] >= 25)  & (df_copy['age']  < 29), 'age']  = 1\n",
    "df_copy.loc[(df_copy['age'] >= 29)  & (df_copy['age']  < 34), 'age']  = 2\n",
    "df_copy.loc[df_copy['age']  >= 34, 'age']                             = 3\n",
    "\n",
    "# one-hot encode age variable\n",
    "age_dummy = pd.get_dummies(df_copy['age'], prefix='age', dtype='int')\n",
    "df_copy.drop('age', axis=1, inplace=True)\n",
    "df_copy = pd.concat([age_dummy, df_copy], axis=1)"
   ]
  },
  {
   "cell_type": "code",
   "execution_count": 739,
   "id": "bbe49bf3-6284-49f1-8f68-ea5c13fd544b",
   "metadata": {},
   "outputs": [
    {
     "data": {
      "text/plain": [
       "(720, 15)"
      ]
     },
     "execution_count": 739,
     "metadata": {},
     "output_type": "execute_result"
    }
   ],
   "source": [
    "df_copy.shape"
   ]
  },
  {
   "cell_type": "markdown",
   "id": "ba628984-f802-403c-96e9-4262ff355830",
   "metadata": {},
   "source": [
    "## 2. Train-Test Split"
   ]
  },
  {
   "cell_type": "code",
   "execution_count": 742,
   "id": "7fa4b84f-8f16-4946-89ba-33b6f120ddbc",
   "metadata": {},
   "outputs": [],
   "source": [
    "np.random.seed(1234)\n",
    "\n",
    "X = df_copy.drop('improvement', axis=1) \n",
    "\n",
    "# normalize features\n",
    "scaler = StandardScaler()\n",
    "X      = scaler.fit_transform(X)\n",
    "\n",
    "y      = np.where(df['improvement'] <= 0, 0, 1)\n",
    "\n",
    "# find one-hot encoded age columns\n",
    "cols       = df_copy.columns.tolist()\n",
    "age0_col   = cols.index('age_0')\n",
    "age1_col   = cols.index('age_1')\n",
    "age2_col   = cols.index('age_2')\n",
    "age3_col   = cols.index('age_3')\n",
    "\n",
    "X_train, X_test, y_train, y_test = train_test_split(\n",
    "    X, y, test_size=0.20, random_state=42, stratify=X[:, [age0_col, age1_col, age2_col, age3_col]])"
   ]
  },
  {
   "cell_type": "code",
   "execution_count": 744,
   "id": "1275a03e-ea6d-4eeb-94e6-cdb02fed3424",
   "metadata": {},
   "outputs": [
    {
     "name": "stdout",
     "output_type": "stream",
     "text": [
      "(576, 14) (144, 14)\n",
      "(576,) (144,)\n"
     ]
    }
   ],
   "source": [
    "print(X_train.shape, X_test.shape) # number of X train and X test samples\n",
    "print(y_train.shape, y_test.shape) # number y train and y test samples"
   ]
  },
  {
   "cell_type": "markdown",
   "id": "7b3a5efa-b9f0-4632-8965-038db9857887",
   "metadata": {},
   "source": [
    "## 3. Define Performance Function"
   ]
  },
  {
   "cell_type": "code",
   "execution_count": 747,
   "id": "b8912100-2744-41af-b82a-2ba7ffe9efb5",
   "metadata": {},
   "outputs": [],
   "source": [
    "def performance(y_true, y_pred, metric=\"accuracy\"):\n",
    "    \"\"\"\n",
    "    Calculates the performance metric based on the agreement between the\n",
    "    true labels and the predicted labels.\n",
    "\n",
    "    Parameters\n",
    "    --------------------\n",
    "        y_true -- numpy array of shape (n,), known labels\n",
    "        y_pred -- numpy array of shape (n,), (discrete-valued) predictions\n",
    "        metric -- string, option used to select the performance measure\n",
    "                  options: 'accuracy', 'f1-score', 'auroc', 'precision',\n",
    "                           'sensitivity', 'specificity'\n",
    "\n",
    "    Returns\n",
    "    --------------------\n",
    "        score  -- float, performance score\n",
    "    \"\"\"\n",
    "\n",
    "    # compute classifier performance\n",
    "    tn, fp, fn, tp = metrics.confusion_matrix(y_true, y_pred).ravel()\n",
    "\n",
    "    scores = {\n",
    "        'accuracy' : metrics.accuracy_score(y_true, y_pred),\n",
    "        'f1-score' : metrics.f1_score(y_true, y_pred),\n",
    "        'auroc' : metrics.roc_auc_score(y_true, y_pred),\n",
    "        'precision' : metrics.precision_score(y_true, y_pred),\n",
    "        'sensitivity' : metrics.recall_score(y_true, y_pred),\n",
    "        'specificity' : tn / (tn + fp)\n",
    "    }\n",
    "    score = scores[metric]\n",
    "    return score\n",
    "\n",
    "# list possible metrics\n",
    "metric_list = [\"accuracy\", \"f1-score\", \"auroc\", \"precision\", \"sensitivity\", \"specificity\"]"
   ]
  },
  {
   "cell_type": "markdown",
   "id": "91b3e9c1-2f84-4569-b5e9-a83e7189cdf0",
   "metadata": {},
   "source": [
    "## 4. Modeling"
   ]
  },
  {
   "cell_type": "markdown",
   "id": "9bb1faf1-fec0-411c-8882-80c6aea0e828",
   "metadata": {},
   "source": [
    "### 4.1 K-NN"
   ]
  },
  {
   "cell_type": "code",
   "execution_count": 751,
   "id": "6a0698dc-fe66-4e4b-9014-b08f635f6811",
   "metadata": {},
   "outputs": [],
   "source": [
    "N        = 50\n",
    "K        = np.arange(1,N+1)\n",
    "splits   = 5\n",
    "skf      = StratifiedKFold(n_splits = splits)\n",
    "error    = np.zeros((N,splits))\n",
    "\n",
    "\n",
    "for idx, k in enumerate(K):\n",
    "    for i, (train_index, test_index) in enumerate(skf.split(X_train, y_train)):\n",
    "        neigh  = KNeighborsClassifier(n_neighbors=k)\n",
    "        neigh.fit(X_train[train_index], y_train[train_index])\n",
    "        y_pred = neigh.predict(X_train[test_index])\n",
    "        error[idx][i] = 1 - np.mean(y_pred == y_train[test_index])\n",
    "error = np.mean(error, axis=1)"
   ]
  },
  {
   "cell_type": "code",
   "execution_count": 752,
   "id": "deab2439-81a4-4301-8b36-cfeec0fa494d",
   "metadata": {},
   "outputs": [
    {
     "data": {
      "image/png": "[encoded data removed]",
      "text/plain": [
       "<Figure size 640x480 with 1 Axes>"
      ]
     },
     "metadata": {},
     "output_type": "display_data"
    },
    {
     "name": "stdout",
     "output_type": "stream",
     "text": [
      "best k: 38\n"
     ]
    }
   ],
   "source": [
    "plt.plot(K, error)\n",
    "plt.ylabel('error')\n",
    "plt.xlabel('k')\n",
    "plt.show()\n",
    "best_k = K[np.min(error) == error][0]\n",
    "print(f'best k: {best_k}')"
   ]
  },
  {
   "cell_type": "code",
   "execution_count": 755,
   "id": "f76a0cbb-c8d7-40e1-a433-79a6f2a095a8",
   "metadata": {},
   "outputs": [
    {
     "name": "stdout",
     "output_type": "stream",
     "text": [
      "metric: accuracy\n",
      "0.632\n",
      "----------------\n",
      "metric: f1-score\n",
      "0.589\n",
      "----------------\n",
      "metric: auroc\n",
      "0.631\n",
      "----------------\n",
      "metric: precision\n",
      "0.655\n",
      "----------------\n",
      "metric: sensitivity\n",
      "0.535\n",
      "----------------\n",
      "metric: specificity\n",
      "0.726\n",
      "----------------\n"
     ]
    }
   ],
   "source": [
    "best_k = K[np.min(error) == error][0] # find the best k (k = 38) \n",
    "neigh  = KNeighborsClassifier(n_neighbors=best_k)\n",
    "neigh.fit(X_train, y_train)\n",
    "y_pred = neigh.predict(X_test)\n",
    "for metric in metric_list:\n",
    "    print(f'metric: {metric}')\n",
    "    print(round(performance(y_test, y_pred, metric), 3))\n",
    "    print('----------------')"
   ]
  },
  {
   "cell_type": "markdown",
   "id": "ed47d624-14e3-4e01-bd00-9b4b2f022268",
   "metadata": {},
   "source": [
    "### 4.2 Logistic Regression"
   ]
  },
  {
   "cell_type": "code",
   "execution_count": 758,
   "id": "381a4604-175c-4d90-b4f5-14dc57f78615",
   "metadata": {},
   "outputs": [],
   "source": [
    "C = np.array([1e-0, 1e-1, 1e-2, 1e-3, 1e-4, 1e-5])\n",
    "splits   = 5\n",
    "skf      = StratifiedKFold(n_splits = splits)\n",
    "error    = np.zeros((len(C),splits))\n",
    "\n",
    "\n",
    "for idx, c in enumerate(C):\n",
    "    for i, (train_index, test_index) in enumerate(skf.split(X_train, y_train)):\n",
    "        logit  = LogisticRegression(C=c, solver='liblinear', random_state=0)\n",
    "        logit.fit(X_train[train_index], y_train[train_index])\n",
    "        y_pred = logit.predict(X_train[test_index])\n",
    "        error[idx][i] = 1 - np.mean(y_pred == y_train[test_index])\n",
    "error = np.mean(error, axis=1)"
   ]
  },
  {
   "cell_type": "code",
   "execution_count": 760,
   "id": "4cb06c5f-ae06-4776-b312-3c1cf4865837",
   "metadata": {},
   "outputs": [
    {
     "data": {
      "image/png": "[encoded data removed]",
      "text/plain": [
       "<Figure size 640x480 with 1 Axes>"
      ]
     },
     "metadata": {},
     "output_type": "display_data"
    }
   ],
   "source": [
    "plt.plot(C, error)\n",
    "plt.ylabel('error')\n",
    "plt.xlabel('c')\n",
    "plt.tight_layout()\n",
    "plt.show()"
   ]
  },
  {
   "cell_type": "code",
   "execution_count": 762,
   "id": "dfa3eff8-c052-4f63-a25d-30497318fed4",
   "metadata": {},
   "outputs": [
    {
     "name": "stdout",
     "output_type": "stream",
     "text": [
      "metric: accuracy\n",
      "0.66\n",
      "----------------\n",
      "metric: f1-score\n",
      "0.642\n",
      "----------------\n",
      "metric: auroc\n",
      "0.659\n",
      "----------------\n",
      "metric: precision\n",
      "0.667\n",
      "----------------\n",
      "metric: sensitivity\n",
      "0.62\n",
      "----------------\n",
      "metric: specificity\n",
      "0.699\n",
      "----------------\n"
     ]
    }
   ],
   "source": [
    "best_c = C[np.min(error) == error][0] # find the best regularization parameter (lambda)\n",
    "logit_best  = LogisticRegression(C=best_c, solver='liblinear')\n",
    "logit_best.fit(X_train, y_train)\n",
    "y_pred = logit_best.predict(X_test)\n",
    "for metric in metric_list:\n",
    "    print(f'metric: {metric}')\n",
    "    print(round(performance(y_test, y_pred, metric), 3))\n",
    "    print('----------------')"
   ]
  },
  {
   "cell_type": "markdown",
   "id": "0a8fe008-dfac-4c90-9e2c-35cd91f608ca",
   "metadata": {},
   "source": [
    "### 4.3 SVM"
   ]
  },
  {
   "cell_type": "code",
   "execution_count": 765,
   "id": "149432a0-44b8-4599-b2ac-452a9ab00b3b",
   "metadata": {},
   "outputs": [],
   "source": [
    "C_range = 10.0 ** np.arange(-3, 3)\n",
    "\n",
    "splits   = 5\n",
    "skf      = StratifiedKFold(n_splits = splits)\n",
    "error    = np.zeros((len(C),splits))\n",
    "\n",
    "\n",
    "for idx, c in enumerate(C):\n",
    "    for i, (train_index, test_index) in enumerate(skf.split(X_train, y_train)):\n",
    "        clf  = LinearSVC(loss = 'hinge', random_state = 0, C=c, dual=True, max_iter = 100000)\n",
    "        clf.fit(X_train[train_index], y_train[train_index])\n",
    "        y_pred = clf.predict(X_train[test_index])\n",
    "        error[idx][i] = 1 - np.mean(y_pred == y_train[test_index])\n",
    "error = np.mean(error, axis=1)"
   ]
  },
  {
   "cell_type": "code",
   "execution_count": 767,
   "id": "1be6b69b-1532-4d57-baaa-d6512bec40cb",
   "metadata": {},
   "outputs": [
    {
     "data": {
      "image/png": "[encoded data removed]",
      "text/plain": [
       "<Figure size 640x480 with 1 Axes>"
      ]
     },
     "metadata": {},
     "output_type": "display_data"
    }
   ],
   "source": [
    "plt.plot(C, error)\n",
    "plt.ylabel('error')\n",
    "plt.xlabel('c')\n",
    "plt.tight_layout()\n",
    "plt.show()"
   ]
  },
  {
   "cell_type": "code",
   "execution_count": 769,
   "id": "ad0b157f-7944-427d-80e2-601bf15ef049",
   "metadata": {},
   "outputs": [
    {
     "name": "stdout",
     "output_type": "stream",
     "text": [
      "metric: accuracy\n",
      "0.667\n",
      "----------------\n",
      "metric: f1-score\n",
      "0.652\n",
      "----------------\n",
      "metric: auroc\n",
      "0.666\n",
      "----------------\n",
      "metric: precision\n",
      "0.672\n",
      "----------------\n",
      "metric: sensitivity\n",
      "0.634\n",
      "----------------\n",
      "metric: specificity\n",
      "0.699\n",
      "----------------\n"
     ]
    }
   ],
   "source": [
    "best_c = C[np.min(error) == error][0] # find the best regularization parameter (lambda)\n",
    "clf_best = LinearSVC(loss='hinge', random_state = 0, C=best_c, dual=True)\n",
    "clf_best.fit(X_train, y_train)\n",
    "y_pred = clf_best.predict(X_test)\n",
    "for metric in metric_list:\n",
    "    print(f'metric: {metric}')\n",
    "    print(round(performance(y_test, y_pred, metric), 3))\n",
    "    print('----------------')"
   ]
  }
 ],
 "metadata": {
  "kernelspec": {
   "display_name": "Python 3 (ipykernel)",
   "language": "python",
   "name": "python3"
  },
  "language_info": {
   "codemirror_mode": {
    "name": "ipython",
    "version": 3
   },
   "file_extension": ".py",
   "mimetype": "text/x-python",
   "name": "python",
   "nbconvert_exporter": "python",
   "pygments_lexer": "ipython3",
   "version": "3.12.4"
  }
 },
 "nbformat": 4,
 "nbformat_minor": 5
}
